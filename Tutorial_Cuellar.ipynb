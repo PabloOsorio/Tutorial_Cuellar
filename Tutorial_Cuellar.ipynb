{
  "nbformat": 4,
  "nbformat_minor": 0,
  "metadata": {
    "colab": {
      "provenance": [],
      "authorship_tag": "ABX9TyOasVtQuqbjxw3j74wzMIgr",
      "include_colab_link": true
    },
    "kernelspec": {
      "name": "python3",
      "display_name": "Python 3"
    },
    "language_info": {
      "name": "python"
    }
  },
  "cells": [
    {
      "cell_type": "markdown",
      "metadata": {
        "id": "view-in-github",
        "colab_type": "text"
      },
      "source": [
        "<a href=\"https://colab.research.google.com/github/PabloOsorio/Tutorial_Cuellar/blob/main/Tutorial_Cuellar.ipynb\" target=\"_parent\"><img src=\"https://colab.research.google.com/assets/colab-badge.svg\" alt=\"Open In Colab\"/></a>"
      ]
    },
    {
      "cell_type": "code",
      "execution_count": 1,
      "metadata": {
        "colab": {
          "base_uri": "https://localhost:8080/"
        },
        "id": "B1--PmUx0Puy",
        "outputId": "d7fd1527-794d-434b-8ea3-0f644fefcd1a"
      },
      "outputs": [
        {
          "output_type": "stream",
          "name": "stdout",
          "text": [
            "Huevos a cuellar\n"
          ]
        }
      ],
      "source": [
        "print(\"Huevos a cuellar\")"
      ]
    }
  ]
}